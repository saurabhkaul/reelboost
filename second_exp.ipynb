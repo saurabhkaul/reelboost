{
 "cells": [
  {
   "cell_type": "code",
   "execution_count": null,
   "id": "bda13688-4b04-41c2-8504-ecbb1d15e44a",
   "metadata": {},
   "outputs": [],
   "source": []
  },
  {
   "cell_type": "code",
   "execution_count": null,
   "id": "889e232f-a171-4a11-a874-e569a68e615a",
   "metadata": {},
   "outputs": [],
   "source": [
    "import ollama\n",
    "import cv2\n",
    "import base64\n",
    "import io\n",
    "from PIL import Image\n",
    "import json\n",
    "\n",
    "def encode_frame_to_base64(frame):\n",
    "    # Convert the frame to RGB (OpenCV uses BGR by default)\n",
    "    rgb_frame = cv2.cvtColor(frame, cv2.COLOR_BGR2RGB)\n",
    "    \n",
    "    # Convert to PIL Image\n",
    "    pil_image = Image.fromarray(rgb_frame)\n",
    "    \n",
    "    # Save to bytes buffer\n",
    "    buffer = io.BytesIO()\n",
    "    pil_image.save(buffer, format=\"JPEG\")\n",
    "    \n",
    "    # Encode to base64\n",
    "    return base64.b64encode(buffer.getvalue()).decode('utf-8')\n",
    "\n",
    "def process_video(video_path, frame_interval=60):\n",
    "    client = ollama.Client()\n",
    "    cap = cv2.VideoCapture(video_path)\n",
    "    frame_count = 0\n",
    "\n",
    "    while cap.isOpened():\n",
    "        ret, frame = cap.read()\n",
    "        if not ret:\n",
    "            break\n",
    "\n",
    "        frame_count += 1\n",
    "        if frame_count % frame_interval == 0:\n",
    "            base64_frame = encode_frame_to_base64(frame)\n",
    "            \n",
    "            response = client.generate(\n",
    "                model=\"llava\",\n",
    "                prompt=\"Describe this frame from a video which is a reel. Also please suggest ways to make this reel more interesting\",\n",
    "                images=[base64_frame]\n",
    "            )\n",
    "            \n",
    "            \n",
    "            print(f\"Frame {frame_count} description: {response} type_response: {type(response)}\")\n",
    "\n",
    "    cap.release()\n",
    "\n",
    "# Usage\n",
    "video_path = \"/Users/saurabhkaul/Downloads/Video-635.mov\"\n",
    "process_video(video_path)"
   ]
  },
  {
   "cell_type": "code",
   "execution_count": null,
   "id": "a4ea4aa7-d67b-42fb-a928-830b55408e52",
   "metadata": {},
   "outputs": [],
   "source": []
  }
 ],
 "metadata": {
  "kernelspec": {
   "display_name": "Python 3 (ipykernel)",
   "language": "python",
   "name": "python3"
  },
  "language_info": {
   "codemirror_mode": {
    "name": "ipython",
    "version": 3
   },
   "file_extension": ".py",
   "mimetype": "text/x-python",
   "name": "python",
   "nbconvert_exporter": "python",
   "pygments_lexer": "ipython3",
   "version": "3.9.16"
  }
 },
 "nbformat": 4,
 "nbformat_minor": 5
}
